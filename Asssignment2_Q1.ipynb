{
 "cells": [
  {
   "cell_type": "code",
   "execution_count": 1,
   "id": "db7f23e2-f62e-49cf-a87a-e1aa800c92d2",
   "metadata": {},
   "outputs": [
    {
     "name": "stdin",
     "output_type": "stream",
     "text": [
      " 5\n",
      " 2 5\n",
      " 1 2\n",
      " 4 4\n",
      " 2 3\n",
      " 2 1\n"
     ]
    },
    {
     "name": "stdout",
     "output_type": "stream",
     "text": [
      "[(2, 1), (1, 2), (2, 3), (4, 4), (2, 5)]\n"
     ]
    }
   ],
   "source": [
    "'''\n",
    "Write a Python program to get a list, sorted in increasing order by the last element in each tuple from a given list of non-empty tuples\n",
    "Sample List : [(2, 5), (1, 2), (4, 4), (2, 3), (2, 1)]\n",
    "Expected Result : [(2, 1), (1, 2), (2, 3), (4, 4), (2, 5)]\n",
    "'''\n",
    "l=[]\n",
    "n=int(input())\n",
    "for i in range(n):\n",
    "    a,b=map(int,input("enter the value seperated by space").split(\" \"))\n",
    "    t=(a,b)\n",
    "    l.append(t)\n",
    "for i in range(0,n):\n",
    "    for j in range(0,n-i-1):\n",
    "        if l[j][-1]>l[j+1][-1]:\n",
    "            temp = l[j] \n",
    "            l[j]= l[j + 1] \n",
    "            l[j + 1]= temp \n",
    "print(l)"
   ]
  },
  {
   "cell_type": "code",
   "execution_count": null,
   "id": "973149b8-befd-4d27-b219-898af679df68",
   "metadata": {},
   "outputs": [],
   "source": []
  }
 ],
 "metadata": {
  "kernelspec": {
   "display_name": "Python 3 (ipykernel)",
   "language": "python",
   "name": "python3"
  },
  "language_info": {
   "codemirror_mode": {
    "name": "ipython",
    "version": 3
   },
   "file_extension": ".py",
   "mimetype": "text/x-python",
   "name": "python",
   "nbconvert_exporter": "python",
   "pygments_lexer": "ipython3",
   "version": "3.10.9"
  }
 },
 "nbformat": 4,
 "nbformat_minor": 5
}
